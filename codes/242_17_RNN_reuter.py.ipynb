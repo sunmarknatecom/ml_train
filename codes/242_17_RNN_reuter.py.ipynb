{
 "cells": [
  {
   "cell_type": "code",
   "execution_count": 1,
   "metadata": {
    "scrolled": true
   },
   "outputs": [],
   "source": [
    "from tensorflow.keras.datasets import reuters\n",
    "from tensorflow.keras.models import Sequential\n",
    "from tensorflow.keras.layers import Dense, LSTM, Embedding\n",
    "from tensorflow.keras.preprocessing import sequence\n",
    "from tensorflow.keras.utils import to_categorical\n",
    "\n",
    "import numpy as np\n",
    "import matplotlib.pyplot as plt"
   ]
  },
  {
   "cell_type": "code",
   "execution_count": 2,
   "metadata": {},
   "outputs": [],
   "source": [
    "(X_train, Y_train), (X_test, Y_test) = reuters.load_data(num_words=1000, test_split=0.2)"
   ]
  },
  {
   "cell_type": "code",
   "execution_count": 3,
   "metadata": {},
   "outputs": [],
   "source": [
    "category = np.max(Y_train) + 1"
   ]
  },
  {
   "cell_type": "code",
   "execution_count": 4,
   "metadata": {},
   "outputs": [
    {
     "name": "stdout",
     "output_type": "stream",
     "text": [
      "46 카테고리\n",
      "8982\n",
      "2246\n",
      "[1, 2, 2, 8, 43, 10, 447, 5, 25, 207, 270, 5, 2, 111, 16, 369, 186, 90, 67, 7, 89, 5, 19, 102, 6, 19, 124, 15, 90, 67, 84, 22, 482, 26, 7, 48, 4, 49, 8, 864, 39, 209, 154, 6, 151, 6, 83, 11, 15, 22, 155, 11, 15, 7, 48, 9, 2, 2, 504, 6, 258, 6, 272, 11, 15, 22, 134, 44, 11, 15, 16, 8, 197, 2, 90, 67, 52, 29, 209, 30, 32, 132, 6, 109, 15, 17, 12]\n"
     ]
    }
   ],
   "source": [
    "print(category, '카테고리')\n",
    "print(len(X_train))\n",
    "print(len(X_test))\n",
    "print(X_train[0])"
   ]
  },
  {
   "cell_type": "code",
   "execution_count": 5,
   "metadata": {},
   "outputs": [],
   "source": [
    "x_train = sequence.pad_sequences(X_train, maxlen=100)\n",
    "x_test = sequence.pad_sequences(X_test, maxlen=100)\n",
    "y_train = to_categorical(Y_train).astype('uint8')\n",
    "y_test = to_categorical(Y_test).astype('uint8')"
   ]
  },
  {
   "cell_type": "code",
   "execution_count": 7,
   "metadata": {},
   "outputs": [],
   "source": [
    "model = Sequential()\n",
    "model.add(Embedding(1000, 100))\n",
    "model.add(LSTM(100, activation='tanh'))\n",
    "model.add(Dense(46, activation='softmax'))"
   ]
  },
  {
   "cell_type": "code",
   "execution_count": 8,
   "metadata": {},
   "outputs": [],
   "source": [
    "model.compile(loss='categorical_crossentropy', optimizer='adam', metrics=['accuracy'])"
   ]
  },
  {
   "cell_type": "code",
   "execution_count": 9,
   "metadata": {},
   "outputs": [
    {
     "name": "stdout",
     "output_type": "stream",
     "text": [
      "Train on 8982 samples, validate on 2246 samples\n",
      "Epoch 1/20\n",
      "8982/8982 [==============================] - 29s 3ms/sample - loss: 2.5796 - accuracy: 0.3565 - val_loss: 2.2566 - val_accuracy: 0.4702\n",
      "Epoch 2/20\n",
      "8982/8982 [==============================] - 28s 3ms/sample - loss: 2.0783 - accuracy: 0.4849 - val_loss: 1.9793 - val_accuracy: 0.5098\n",
      "Epoch 3/20\n",
      "8982/8982 [==============================] - 28s 3ms/sample - loss: 1.9007 - accuracy: 0.5014 - val_loss: 1.8811 - val_accuracy: 0.5191\n",
      "Epoch 4/20\n",
      "8982/8982 [==============================] - 28s 3ms/sample - loss: 1.7587 - accuracy: 0.5453 - val_loss: 1.7572 - val_accuracy: 0.5383\n",
      "Epoch 5/20\n",
      "8982/8982 [==============================] - 26s 3ms/sample - loss: 1.6973 - accuracy: 0.5568 - val_loss: 1.7135 - val_accuracy: 0.5614\n",
      "Epoch 6/20\n",
      "8982/8982 [==============================] - 26s 3ms/sample - loss: 1.6484 - accuracy: 0.5685 - val_loss: 1.7154 - val_accuracy: 0.5539\n",
      "Epoch 7/20\n",
      "8982/8982 [==============================] - 27s 3ms/sample - loss: 1.6322 - accuracy: 0.5703 - val_loss: 1.6543 - val_accuracy: 0.5735\n",
      "Epoch 8/20\n",
      "8982/8982 [==============================] - 26s 3ms/sample - loss: 1.5152 - accuracy: 0.6126 - val_loss: 1.5608 - val_accuracy: 0.5966\n",
      "Epoch 9/20\n",
      "8982/8982 [==============================] - 26s 3ms/sample - loss: 1.4192 - accuracy: 0.6384 - val_loss: 1.4553 - val_accuracy: 0.6420\n",
      "Epoch 10/20\n",
      "8982/8982 [==============================] - 26s 3ms/sample - loss: 1.3021 - accuracy: 0.6711 - val_loss: 1.4319 - val_accuracy: 0.6523\n",
      "Epoch 11/20\n",
      "8982/8982 [==============================] - 27s 3ms/sample - loss: 1.2213 - accuracy: 0.6942 - val_loss: 1.3592 - val_accuracy: 0.6607\n",
      "Epoch 12/20\n",
      "8982/8982 [==============================] - 27s 3ms/sample - loss: 1.1507 - accuracy: 0.7089 - val_loss: 1.3183 - val_accuracy: 0.6768\n",
      "Epoch 13/20\n",
      "8982/8982 [==============================] - 27s 3ms/sample - loss: 1.1117 - accuracy: 0.7178 - val_loss: 1.3031 - val_accuracy: 0.6781\n",
      "Epoch 14/20\n",
      "8982/8982 [==============================] - 28s 3ms/sample - loss: 1.0766 - accuracy: 0.7289 - val_loss: 1.2757 - val_accuracy: 0.6861\n",
      "Epoch 15/20\n",
      "8982/8982 [==============================] - 27s 3ms/sample - loss: 1.0189 - accuracy: 0.7409 - val_loss: 1.2388 - val_accuracy: 0.6901\n",
      "Epoch 16/20\n",
      "8982/8982 [==============================] - 28s 3ms/sample - loss: 0.9763 - accuracy: 0.7511 - val_loss: 1.2516 - val_accuracy: 0.6919\n",
      "Epoch 17/20\n",
      "8982/8982 [==============================] - 28s 3ms/sample - loss: 0.9368 - accuracy: 0.7634 - val_loss: 1.2141 - val_accuracy: 0.6999\n",
      "Epoch 18/20\n",
      "8982/8982 [==============================] - 28s 3ms/sample - loss: 0.9040 - accuracy: 0.7749 - val_loss: 1.2427 - val_accuracy: 0.6941\n",
      "Epoch 19/20\n",
      "8982/8982 [==============================] - 28s 3ms/sample - loss: 0.8667 - accuracy: 0.7821 - val_loss: 1.2253 - val_accuracy: 0.6981\n",
      "Epoch 20/20\n",
      "8982/8982 [==============================] - 27s 3ms/sample - loss: 0.8338 - accuracy: 0.7920 - val_loss: 1.2214 - val_accuracy: 0.7075\n"
     ]
    }
   ],
   "source": [
    "history = model.fit(x_train, y_train, batch_size=100, epochs=20, validation_data=(x_test, y_test))"
   ]
  },
  {
   "cell_type": "code",
   "execution_count": 10,
   "metadata": {},
   "outputs": [
    {
     "name": "stdout",
     "output_type": "stream",
     "text": [
      "2246/2246 [==============================] - 2s 1ms/sample - loss: 1.2214 - accuracy: 0.7075\n",
      "[1.2213817983467665, 0.70747995]\n"
     ]
    }
   ],
   "source": [
    "print(model.evaluate(x_test, y_test))"
   ]
  },
  {
   "cell_type": "code",
   "execution_count": 11,
   "metadata": {},
   "outputs": [],
   "source": [
    "y_vloss = history.history['val_loss']\n",
    "y_loss = history.history['loss']\n",
    "x_len = np.arange(len(y_loss))"
   ]
  },
  {
   "cell_type": "code",
   "execution_count": 14,
   "metadata": {},
   "outputs": [
    {
     "data": {
      "image/png": "[encoded data removed]",
      "text/plain": [
       "<Figure size 432x288 with 1 Axes>"
      ]
     },
     "metadata": {
      "needs_background": "light"
     },
     "output_type": "display_data"
    }
   ],
   "source": [
    "plt.plot(x_len, y_vloss, marker='.', c='red', label='Testset_loss')\n",
    "plt.plot(x_len, y_loss, marker='.', c='blue', label='Trainset_loss')\n",
    "plt.legend(loc='upper right')\n",
    "plt.grid()\n",
    "plt.xlabel('epoch')\n",
    "plt.ylabel('loss')\n",
    "plt.show()"
   ]
  },
  {
   "cell_type": "code",
   "execution_count": null,
   "metadata": {},
   "outputs": [],
   "source": []
  }
 ],
 "metadata": {
  "kernelspec": {
   "display_name": "Python 3",
   "language": "python",
   "name": "python3"
  },
  "language_info": {
   "codemirror_mode": {
    "name": "ipython",
    "version": 3
   },
   "file_extension": ".py",
   "mimetype": "text/x-python",
   "name": "python",
   "nbconvert_exporter": "python",
   "pygments_lexer": "ipython3",
   "version": "3.7.2"
  }
 },
 "nbformat": 4,
 "nbformat_minor": 4
}
