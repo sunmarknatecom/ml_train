{
 "cells": [
  {
   "cell_type": "code",
   "execution_count": 1,
   "metadata": {},
   "outputs": [],
   "source": [
    "from tensorflow.keras.datasets import mnist\n",
    "from tensorflow.keras.utils import to_categorical\n",
    "from tensorflow.keras.models import Sequential\n",
    "from tensorflow.keras.layers import Dense\n",
    "from tensorflow.keras.callbacks import ModelCheckpoint, EarlyStopping\n",
    "\n",
    "import matplotlib.pyplot as plt\n",
    "import numpy as np\n",
    "import os"
   ]
  },
  {
   "cell_type": "code",
   "execution_count": 2,
   "metadata": {},
   "outputs": [],
   "source": [
    "(X_train, Y_train), (X_test, Y_test) = mnist.load_data()"
   ]
  },
  {
   "cell_type": "code",
   "execution_count": 3,
   "metadata": {},
   "outputs": [],
   "source": [
    "X_train = X_train.reshape(X_train.shape[0], 784).astype('float32')/255\n",
    "X_test = X_test.reshape(X_test.shape[0], 784).astype('float32')/255"
   ]
  },
  {
   "cell_type": "code",
   "execution_count": 4,
   "metadata": {},
   "outputs": [],
   "source": [
    "Y_train = to_categorical(Y_train, 10).astype('int')\n",
    "Y_test = to_categorical(Y_test, 10).astype('int')"
   ]
  },
  {
   "cell_type": "code",
   "execution_count": 5,
   "metadata": {},
   "outputs": [],
   "source": [
    "model = Sequential()                                    #모델설정하기\n",
    "model.add(Dense(512, input_dim=784, activation='relu'))\n",
    "model.add(Dense(10, activation='softmax'))"
   ]
  },
  {
   "cell_type": "code",
   "execution_count": 6,
   "metadata": {},
   "outputs": [],
   "source": [
    "model.compile(loss='categorical_crossentropy', optimizer='adam', metrics=['accuracy'])"
   ]
  },
  {
   "cell_type": "code",
   "execution_count": 8,
   "metadata": {},
   "outputs": [],
   "source": [
    "MODEL_DIR = './model_05/'\n",
    "if not os.path.exists(MODEL_DIR):\n",
    "    os.mkdir(MODEL_DIR)\n",
    "\n",
    "modelpath = \"./model_05/{epoch:02d}-{val_loss:.4f}.hdf5\""
   ]
  },
  {
   "cell_type": "code",
   "execution_count": 9,
   "metadata": {},
   "outputs": [],
   "source": [
    "checkpointer = ModelCheckpoint(filepath=modelpath, monitor='val_loss', verbose=1, save_best_only=True)\n",
    "\n",
    "early_stopping_callback = EarlyStopping(monitor='val_loss', patience=10)"
   ]
  },
  {
   "cell_type": "code",
   "execution_count": 10,
   "metadata": {},
   "outputs": [
    {
     "name": "stdout",
     "output_type": "stream",
     "text": [
      "\n",
      "Epoch 00001: val_loss improved from inf to 0.15361, saving model to ./model_05/01-0.1536.hdf5\n",
      "\n",
      "Epoch 00002: val_loss improved from 0.15361 to 0.10826, saving model to ./model_05/02-0.1083.hdf5\n",
      "\n",
      "Epoch 00003: val_loss improved from 0.10826 to 0.08410, saving model to ./model_05/03-0.0841.hdf5\n",
      "\n",
      "Epoch 00004: val_loss improved from 0.08410 to 0.07375, saving model to ./model_05/04-0.0737.hdf5\n",
      "\n",
      "Epoch 00005: val_loss did not improve from 0.07375\n",
      "\n",
      "Epoch 00006: val_loss improved from 0.07375 to 0.07079, saving model to ./model_05/06-0.0708.hdf5\n",
      "\n",
      "Epoch 00007: val_loss improved from 0.07079 to 0.06314, saving model to ./model_05/07-0.0631.hdf5\n",
      "\n",
      "Epoch 00008: val_loss did not improve from 0.06314\n",
      "\n",
      "Epoch 00009: val_loss improved from 0.06314 to 0.06017, saving model to ./model_05/09-0.0602.hdf5\n",
      "\n",
      "Epoch 00010: val_loss improved from 0.06017 to 0.05779, saving model to ./model_05/10-0.0578.hdf5\n",
      "\n",
      "Epoch 00011: val_loss did not improve from 0.05779\n",
      "\n",
      "Epoch 00012: val_loss did not improve from 0.05779\n",
      "\n",
      "Epoch 00013: val_loss did not improve from 0.05779\n",
      "\n",
      "Epoch 00014: val_loss did not improve from 0.05779\n",
      "\n",
      "Epoch 00015: val_loss did not improve from 0.05779\n",
      "\n",
      "Epoch 00016: val_loss did not improve from 0.05779\n",
      "\n",
      "Epoch 00017: val_loss did not improve from 0.05779\n",
      "\n",
      "Epoch 00018: val_loss did not improve from 0.05779\n",
      "\n",
      "Epoch 00019: val_loss did not improve from 0.05779\n",
      "\n",
      "Epoch 00020: val_loss did not improve from 0.05779\n"
     ]
    }
   ],
   "source": [
    "history = model.fit(X_train, Y_train, validation_data=(X_test, Y_test), epochs=30, batch_size=200, verbose=0, callbacks=[early_stopping_callback, checkpointer])"
   ]
  },
  {
   "cell_type": "code",
   "execution_count": 12,
   "metadata": {},
   "outputs": [
    {
     "name": "stdout",
     "output_type": "stream",
     "text": [
      "Val_loss and Accuracy [0.07976848757994612, 0.9804]\n"
     ]
    }
   ],
   "source": [
    "print(\"Val_loss and Accuracy\", (model.evaluate(X_test,Y_test, verbose=0)))"
   ]
  },
  {
   "cell_type": "code",
   "execution_count": 13,
   "metadata": {},
   "outputs": [],
   "source": [
    "y_vloss = history.history['val_loss']\n",
    "y_loss = history.history['loss']"
   ]
  },
  {
   "cell_type": "code",
   "execution_count": 16,
   "metadata": {},
   "outputs": [
    {
     "data": {
      "image/png": "[encoded data removed]",
      "text/plain": [
       "<Figure size 432x288 with 1 Axes>"
      ]
     },
     "metadata": {
      "needs_background": "light"
     },
     "output_type": "display_data"
    }
   ],
   "source": [
    "x_len =np.arange(len(y_loss))\n",
    "plt.plot(x_len, y_vloss, marker='.', c='red', label='Testset_loss')\n",
    "plt.plot(x_len, y_loss, marker='.', c='blue', label='Trainset_loss')\n",
    "plt.legend(loc='upper right')\n",
    "plt.grid()\n",
    "plt.xlabel('epoch')\n",
    "plt.ylabel('loss')\n",
    "plt.show()"
   ]
  },
  {
   "cell_type": "code",
   "execution_count": null,
   "metadata": {},
   "outputs": [],
   "source": []
  }
 ],
 "metadata": {
  "kernelspec": {
   "display_name": "Python 3",
   "language": "python",
   "name": "python3"
  },
  "language_info": {
   "codemirror_mode": {
    "name": "ipython",
    "version": 3
   },
   "file_extension": ".py",
   "mimetype": "text/x-python",
   "name": "python",
   "nbconvert_exporter": "python",
   "pygments_lexer": "ipython3",
   "version": "3.6.6"
  }
 },
 "nbformat": 4,
 "nbformat_minor": 4
}
